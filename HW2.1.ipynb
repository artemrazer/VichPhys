{
 "cells": [
  {
   "cell_type": "markdown",
   "metadata": {},
   "source": [
    "# ДЗ6: Fourier transform"
   ]
  },
  {
   "cell_type": "code",
   "execution_count": 1,
   "metadata": {},
   "outputs": [],
   "source": [
    "import numpy as np\n",
    "import matplotlib.pyplot as plt\n",
    "from numpy.testing import assert_allclose"
   ]
  },
  {
   "cell_type": "code",
   "execution_count": 2,
   "metadata": {},
   "outputs": [],
   "source": [
    "def x_n(f, N):\n",
    "    t = np.linspace(0, N, round(N))\n",
    "    x_n = []\n",
    "    for i in range (t.size):\n",
    "        x_n.append(f(t[i]))\n",
    "    x_n = np.array(x_n)\n",
    "    return x_n, t\n",
    "\n",
    "def dft(x_n):\n",
    "    x_n = np.array(x_n)\n",
    "    X = []\n",
    "    N = x_n.size\n",
    "    for k in range (N):\n",
    "        X_n = 0\n",
    "        for t in range(N):\n",
    "            X_n += x_n[t] * np.exp(-1j * 2 * np.pi * k * t / N)\n",
    "        X.append(X_n)\n",
    "    return np.array(X)"
   ]
  },
  {
   "cell_type": "code",
   "execution_count": 3,
   "metadata": {},
   "outputs": [],
   "source": [
    "def f0(x):\n",
    "    return np.sin(3*x) + np.cos(7*x)\n",
    "def f1(x):\n",
    "    return x**2 + 25*x + 60\n",
    "def f2(x):\n",
    "    return np.log(25*(x+3) + (x+3)**3) "
   ]
  },
  {
   "cell_type": "code",
   "execution_count": 4,
   "metadata": {},
   "outputs": [],
   "source": [
    "#Testing\n",
    "assert_allclose(dft(x_n(f0, 1000)[0]), np.fft.fft(x_n(f0, 1000)[0]))\n",
    "assert_allclose(dft(x_n(f1, 1000)[0]), np.fft.fft(x_n(f1, 1000)[0]))\n",
    "assert_allclose(dft(x_n(f2, 1000)[0]), np.fft.fft(x_n(f2, 1000)[0]))"
   ]
  },
  {
   "cell_type": "code",
   "execution_count": 5,
   "metadata": {},
   "outputs": [
    {
     "name": "stdout",
     "output_type": "stream",
     "text": [
      "804 µs ± 78.9 µs per loop (mean ± std. dev. of 7 runs, 1000 loops each)\n"
     ]
    }
   ],
   "source": [
    "%timeit np.fft.fft(x_n(f2, 100)[0])"
   ]
  },
  {
   "cell_type": "code",
   "execution_count": 6,
   "metadata": {},
   "outputs": [
    {
     "name": "stdout",
     "output_type": "stream",
     "text": [
      "116 ms ± 11.9 ms per loop (mean ± std. dev. of 7 runs, 1 loop each)\n"
     ]
    }
   ],
   "source": [
    "%timeit dft(x_n(f2, 100)[0])"
   ]
  },
  {
   "cell_type": "markdown",
   "metadata": {},
   "source": [
    "Получается жутко медленно, поэтому нужен алгоритм, который считал бы быстрее"
   ]
  },
  {
   "cell_type": "code",
   "execution_count": 7,
   "metadata": {},
   "outputs": [],
   "source": [
    "def idft(X_n):\n",
    "    x = []\n",
    "    N = X_n.size\n",
    "    for k in range (N):\n",
    "        x_n = 0\n",
    "        for t in range(N):\n",
    "            x_n += X_n[t] * np.exp(1j * 2 * np.pi * k * t / N) * (1/N)\n",
    "        x.append(x_n)\n",
    "    return np.array(x)"
   ]
  },
  {
   "cell_type": "code",
   "execution_count": 8,
   "metadata": {},
   "outputs": [
    {
     "data": {
      "text/plain": [
       "<matplotlib.legend.Legend at 0x1f28d7c0860>"
      ]
     },
     "execution_count": 8,
     "metadata": {},
     "output_type": "execute_result"
    },
    {
     "data": {
      "image/png": "[encoded data removed]",
      "text/plain": [
       "<Figure size 432x288 with 1 Axes>"
      ]
     },
     "metadata": {},
     "output_type": "display_data"
    }
   ],
   "source": [
    "t = x_n(f1, 1000)[1]\n",
    "X_n = dft(x_n(f1, 1000)[0])\n",
    "y = idft(X_n)\n",
    "plt.plot(t, np.real(y), label = 'idft')\n",
    "plt.plot(t, x_n(f1, 1000)[0], label = 'f1')\n",
    "plt.legend()"
   ]
  },
  {
   "cell_type": "markdown",
   "metadata": {},
   "source": [
    "Еще раз убеждаемся, что прямой дискретный Фурье и обратный работают"
   ]
  },
  {
   "cell_type": "code",
   "execution_count": 9,
   "metadata": {},
   "outputs": [],
   "source": [
    "def fft(x):\n",
    "    N = len(x)\n",
    "    if np.log2(N) % 1 > 0:\n",
    "        raise ValueError('x.size must be a power of 2, \"{}\" given.'.format(N))\n",
    "    if N <= 1: \n",
    "        return x\n",
    "    s_even = fft(x[0::2])\n",
    "    s_odd = fft(x[1::2])\n",
    "    X_m = []\n",
    "    X_m2 = []\n",
    "    for k in range(N//2):\n",
    "        t = np.exp(-2j*np.pi*k/N)*s_odd[k]\n",
    "        x_m = s_even[k] + t \n",
    "        x_m2 = s_even[k] - t\n",
    "        X_m.append(x_m)\n",
    "        X_m2.append(x_m2)\n",
    "    return np.array(X_m + X_m2)"
   ]
  },
  {
   "cell_type": "code",
   "execution_count": 10,
   "metadata": {},
   "outputs": [],
   "source": [
    "#Testing\n",
    "assert_allclose(fft(x_n(f0, 2**10)[0]), np.fft.fft(x_n(f0, 2**10)[0]))\n",
    "assert_allclose(fft(x_n(f1, 2**10)[0]), np.fft.fft(x_n(f1, 2**10)[0]))\n",
    "assert_allclose(fft(x_n(f2, 2**10)[0]), np.fft.fft(x_n(f2, 2**10)[0]))"
   ]
  },
  {
   "cell_type": "code",
   "execution_count": 11,
   "metadata": {},
   "outputs": [
    {
     "name": "stdout",
     "output_type": "stream",
     "text": [
      "9.21 ms ± 1.54 ms per loop (mean ± std. dev. of 7 runs, 100 loops each)\n"
     ]
    }
   ],
   "source": [
    "%timeit fft(x_n(f2, 2**7)[0])"
   ]
  },
  {
   "cell_type": "code",
   "execution_count": 12,
   "metadata": {},
   "outputs": [],
   "source": [
    "def ifft0(x): \n",
    "    N = len(x)\n",
    "    if np.log2(N) % 1 > 0:\n",
    "        raise ValueError('x.size must be a power of 2, \"{}\" given.'.format(N))\n",
    "    if N <= 1: \n",
    "        return x\n",
    "    s_even = ifft0(x[0::2])\n",
    "    s_odd = ifft0(x[1::2])\n",
    "    X_m = []\n",
    "    X_m2 = []\n",
    "    for k in range(N//2):\n",
    "        t = np.exp(2j*np.pi*k/N)*s_odd[k]\n",
    "        x_m = (s_even[k] + t)\n",
    "        x_m2 = (s_even[k] - t)\n",
    "        X_m.append(x_m)\n",
    "        X_m2.append(x_m2)\n",
    "    return X_m + X_m2 \n",
    "def ifft(x):\n",
    "    n = len(x)\n",
    "    a = ifft0(x)\n",
    "    return [a[i] / n for i in range(n)]"
   ]
  },
  {
   "cell_type": "code",
   "execution_count": 13,
   "metadata": {},
   "outputs": [
    {
     "data": {
      "text/plain": [
       "<matplotlib.legend.Legend at 0x1f28daa5ba8>"
      ]
     },
     "execution_count": 13,
     "metadata": {},
     "output_type": "execute_result"
    },
    {
     "data": {
      "image/png": "[encoded data removed]",
      "text/plain": [
       "<Figure size 432x288 with 1 Axes>"
      ]
     },
     "metadata": {},
     "output_type": "display_data"
    }
   ],
   "source": [
    "t = x_n(f1, 2**10)[1]\n",
    "X_n = fft(x_n(f1, 2**10)[0])\n",
    "y = ifft(X_n)\n",
    "plt.plot(t, np.real(y), label = 'ifft')\n",
    "plt.plot(t, x_n(f1, 2**10)[0], label = 'f1')\n",
    "plt.legend()"
   ]
  }
 ],
 "metadata": {
  "kernelspec": {
   "display_name": "Python 3",
   "language": "python",
   "name": "python3"
  },
  "language_info": {
   "codemirror_mode": {
    "name": "ipython",
    "version": 3
   },
   "file_extension": ".py",
   "mimetype": "text/x-python",
   "name": "python",
   "nbconvert_exporter": "python",
   "pygments_lexer": "ipython3",
   "version": "3.6.5"
  }
 },
 "nbformat": 4,
 "nbformat_minor": 2
}
